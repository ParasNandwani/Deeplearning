{
  "nbformat": 4,
  "nbformat_minor": 0,
  "metadata": {
    "colab": {
      "name": "KerasIntroduction.ipynb",
      "provenance": [],
      "authorship_tag": "ABX9TyMas5mI8bdFZMsyyRFXGRS6",
      "include_colab_link": true
    },
    "kernelspec": {
      "name": "python3",
      "display_name": "Python 3"
    }
  },
  "cells": [
    {
      "cell_type": "markdown",
      "metadata": {
        "id": "view-in-github",
        "colab_type": "text"
      },
      "source": [
        "<a href=\"https://colab.research.google.com/github/ParasNandwani/Deeplearning/blob/master/KerasIntroduction.ipynb\" target=\"_parent\"><img src=\"https://colab.research.google.com/assets/colab-badge.svg\" alt=\"Open In Colab\"/></a>"
      ]
    },
    {
      "cell_type": "markdown",
      "metadata": {
        "id": "fw8xlk3AKAgG",
        "colab_type": "text"
      },
      "source": [
        "<img src=\"https://keras.io/img/logo.png\" width=\"240\" height=\"360\" />\n"
      ]
    },
    {
      "cell_type": "markdown",
      "metadata": {
        "id": "WQh0ii5qKILR",
        "colab_type": "text"
      },
      "source": [
        "###Table of Content\n",
        "1.[Keras-Brief Introduction](Section7)<br/>\n",
        "  - 1.1 [Why keras?](#Section701)<br/>\n",
        "  - 1.2 [Keras v/s Tensorflow](#section702)<br/>\n",
        "  \n",
        "2.[Brief Overview of Neural Networks](#section8)<br/>\n"
      ]
    },
    {
      "cell_type": "markdown",
      "metadata": {
        "id": "lzY-BUhvLuw4",
        "colab_type": "text"
      },
      "source": [
        "# 1. Keras- Brief Introduction\n",
        "keras is high-level library thats's __built on top of Theano or Tensorflow__.It provides a __scikit-learn type API__(written in python) for building Neural Networks.Developer can use Keras to quickly build networks without worrying about the mathematical aspects of tensor algebra,numerical techniques and optimisation methods.\n",
        "\n",
        "\n",
        "The key idea behind the development of Keras is to faciliate experimentations by __fast prototyping__.The ability to go from an __idea to  result with the least possibl delay__ is a key to good research.\n"
      ]
    },
    {
      "cell_type": "markdown",
      "metadata": {
        "id": "Zd4htJs3OVAp",
        "colab_type": "text"
      },
      "source": [
        "##1.1 Why Keras ?\n",
        "- Keras is high-level interface and uses __Theano and Tensorflow for its backend__\n",
        "- It runs smoothly on both __CPU and GPU__.\n",
        "- Keras support almost all the  models of a neural network -fully connected ,convulationsl,pooling,recurrent,embedding etc.Furthermore these models can be combined to build more complex models.\n",
        "- Keras being __modular in nature__,is incredibly __expressive,flexible and apt for innovative research__.\n",
        "- keras is completely Python-based framework,which ,makes it __easy to debug and explore__. \n",
        "<img src=\"https://raw.githubusercontent.com/insaid2018/DeepLearning/master/image/dl_frameworks_power_scores.png\">    \n",
        "\n",
        "Source - Keras documentation"
      ]
    },
    {
      "cell_type": "markdown",
      "metadata": {
        "id": "l6yj-nK0SALS",
        "colab_type": "text"
      },
      "source": [
        "Keras is neural network library written in Python that is __high level in nature__ - which makes it extremely __simple and itutitve__ to use.It works as a __wrapper to low-level libraries like Tensorflow Theano__.Keras itself uses Tensoflow as its backend.\n",
        "\n",
        "-- Keras is ver very simple to understand and implement.it allows to __use tensorflow as backend__\n"
      ]
    },
    {
      "cell_type": "markdown",
      "metadata": {
        "id": "cPe6qCthU2Lt",
        "colab_type": "text"
      },
      "source": [
        "#Brief Overview Of Neural Networks\n",
        "Neural Network can be described as a mathematical function(for instance f=x^2$)) that maps a given input to desired output.They consisit of the following components:-\n",
        "- An input layer,x\n",
        "- An arbitrary amount of __hidden layers__.\n",
        "- An __output layer__,ŷ\n",
        "- A set of __weights and biases__ between each layer W and B.\n",
        "- A choice of _Activation function__ for each hidden layer.\n",
        "\n",
        "<img src=\"https://raw.githubusercontent.com/insaid2018/DeepLearning/master/image/1_sX6T0Y4aa3ARh7IBS_sdqw.png\"/>\n",
        "\n",
        "The middle/hidden layer in the network ia also called __dense if each of its neuron is connected to every neuron in the previous layer__.    \n",
        "The right value of the __weights and biases determine the strength of the predictions__.The process of the __fine tuning the weights and biases__ from the input data is known as __traing of neural network)).\n",
        "\n",
        "\n",
        "Each iteration of the training process consist of the  following steps:-\n",
        "- Calculating the predicted output ŷ known as the __feedforward or forward propagation__.\n",
        "- Updating the weights and biase as __back propagation__ \n"
      ]
    }
  ]
}