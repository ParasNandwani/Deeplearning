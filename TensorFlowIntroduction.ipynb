{
  "nbformat": 4,
  "nbformat_minor": 0,
  "metadata": {
    "colab": {
      "name": "TensorFlowIntroduction.ipynb",
      "provenance": [],
      "authorship_tag": "ABX9TyOKDirL1fNPe9mZ5QgV7LUZ",
      "include_colab_link": true
    },
    "kernelspec": {
      "name": "python3",
      "display_name": "Python 3"
    }
  },
  "cells": [
    {
      "cell_type": "markdown",
      "metadata": {
        "id": "view-in-github",
        "colab_type": "text"
      },
      "source": [
        "<a href=\"https://colab.research.google.com/github/ParasNandwani/Deeplearning/blob/master/TensorFlowIntroduction.ipynb\" target=\"_parent\"><img src=\"https://colab.research.google.com/assets/colab-badge.svg\" alt=\"Open In Colab\"/></a>"
      ]
    },
    {
      "cell_type": "markdown",
      "metadata": {
        "id": "FaJsOX_NoqFa",
        "colab_type": "text"
      },
      "source": [
        "![alt text](https://upload.wikimedia.org/wikipedia/commons/1/11/TensorFlowLogo.svg \"TensorFlow\")"
      ]
    },
    {
      "cell_type": "markdown",
      "metadata": {
        "id": "SfxO0tLdoumU",
        "colab_type": "text"
      },
      "source": [
        "###Table of Content\n",
        "- 1 [TensorFlow -Brief Introduction](#section)<br/>\n",
        "    - 1.1 [Why Tensor Flow](#section101)<br/>\n",
        "    - 1.2 [How TensorFlow works](#section102)<br/>\n",
        "    - 1.3 [Few major applications of TensorFlow](#section103)\n",
        "    - 1.4 [TensorFlow vs The Other Options](#section103)"
      ]
    },
    {
      "cell_type": "markdown",
      "metadata": {
        "id": "ZoWH0BMmq1U_",
        "colab_type": "text"
      },
      "source": [
        "## 1. TensoFlow brief introduction          \n",
        "Created by the **google brain team**.Tensorflow is an open source library for **numerical computation** and **large scale machine learning** .Tensorflow bundles together ad slew of machine learning and deep learning (aka neural networking) models and algorithm.\n",
        "\n",
        "It uses **Python** to provide convinient **front-end api** for building applications with the framework,while executing those applications in high-performance **c++** at the backend.\n"
      ]
    },
    {
      "cell_type": "markdown",
      "metadata": {
        "id": "DnWIYGc-tI3b",
        "colab_type": "text"
      },
      "source": [
        "###Why Tensorflow \n",
        "- Tensorflow is developed by google for the developers involved in machine learning.It makes the power of deep learning accessible to the people in pursuit.\n",
        "- The biggest single benifit Tensorflow provides for machine learning development is abstraction.Instead of dealing with nity-grity details of implememnting algorithms or figuring out proper ways to hitch the output of one function of the input to another,the developer can focus on the overall logic of the application.       \n",
        "The image below gives a good sense of TensorFlow pros and cons - \n",
        "<img src = \"https://raw.githubusercontent.com/insaid2018/DeepLearning/master/image/deep-learning-tensor-flow-an-intro-21-638.jpg\"> \n",
        "\n"
      ]
    },
    {
      "cell_type": "markdown",
      "metadata": {
        "id": "STP_TVlAwkcY",
        "colab_type": "text"
      },
      "source": [
        "###How Tensorflow works\n",
        "- Tensorflow provides __computational efficiency__ for the programmer by way of the python language.Python provides convinient ways to express how __how level abstraction can be coupled__ together.\n",
        "- The actual math functions are not performed in python.The __libraries of transofrmations__ that are available through Tensorflow are written as __high-performance c++ binaries__ Python just directs traffic between the pieces and provides high level level abstraction to hook them together.\n",
        "- Tensorflow __applications can be run on almost any target__ that's convinient a local machine,a cluster in cloud,ios and android device ,CPU's or GPU's \n",
        "- The resulting model created by tensorflow __can be deployed on almost any device__ where they will be used to dserve predictions. "
      ]
    },
    {
      "cell_type": "markdown",
      "metadata": {
        "id": "0lxCOrPo07S9",
        "colab_type": "text"
      },
      "source": [
        "###Few major applications of Tensorflow\n",
        "Whn it comes to deeplearning ,Tensorflow has __gained much more momenum__ than its compitions-Caffe,Theano,Torch and other well known frameworks.Tensorflow is extensively used in __Voice Recognition,Google Translate ,Image recognition and video detection__.\n",
        "<img src=\"https://raw.githubusercontent.com/insaid2018/DeepLearning/master/image/banayihai.png\">   \n",
        "\n",
        "\n",
        "Some of the major applications of Tensorflow are:\n",
        "- Tensorflow has been succesfully implemented in __Deepdream -the surreal image generator software__ -usees tensorflow.\n",
        "- Google's __Rankbrain,its search engine algorithm__, backed by Tensorflow,handles a substantial number of queries every minute and has effectively replaced the traditional static algorithm based search.\n",
        "\n"
      ]
    },
    {
      "cell_type": "markdown",
      "metadata": {
        "id": "PewmcdQi3uP-",
        "colab_type": "text"
      },
      "source": [
        "###Tensorflow v/s the Competition\n",
        "Tensorflow competes with __a slew of other machines learning frameworks__ . __PyTorch,CNTK and MXnet__ are there.\n",
        "- __Pytorch__, in addition to being built with python and __has many other similarities to Tensorflow:hardware accelerated components__ under the hood, a __highly ineractive development model__ that allows for __design-as-you-go work__ and many useful components are also included.\n",
        "\n",
        "- __CNTK__ the __microsoft cognitive toolkit__,like tensorflow __uses graph struture to describe dataflow__, nut focuses most on creating deep learning neural networks.__CNTK handles mant neural network job faster,and has broader set of APIs__.But __CNTK__ is not currently as easy to learn and deploy.\n",
        "- __Apache MXNet__, adopetd by amazon as the premier deeplearning framework on AWS. can scale almost linearly  acorss mutliple GPU and machines .It also supports broad range of language API's.\n",
        "\n",
        "<img src=\"https://raw.githubusercontent.com/insaid2018/DeepLearning/master/image/1_8HgSXEqVD9vqbzzOZsAdcA.png\" style=\"width: 600px\" align=\"right\"/>"
      ]
    }
  ]
}